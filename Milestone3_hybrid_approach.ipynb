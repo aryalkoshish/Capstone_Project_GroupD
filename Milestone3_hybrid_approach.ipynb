{
  "cells": [
    {
      "cell_type": "code",
      "execution_count": 2,
      "metadata": {
        "id": "uhUCeIo6R6A5"
      },
      "outputs": [],
      "source": [
        "import numpy as np\n",
        "import pandas as pd\n",
        "from sklearn.model_selection import train_test_split, RandomizedSearchCV\n",
        "from sklearn.preprocessing import StandardScaler\n",
        "from sklearn.metrics import mean_squared_error, mean_absolute_error\n",
        "from tensorflow.keras.models import Sequential\n",
        "from tensorflow.keras.layers import Dense, Dropout\n",
        "from scikeras.wrappers import KerasRegressor\n",
        "import warnings\n",
        "warnings.filterwarnings('ignore')\n"
      ]
    },
    {
      "cell_type": "code",
      "execution_count": 3,
      "metadata": {
        "id": "wQdAcU1yR60N"
      },
      "outputs": [],
      "source": [
        "# LOADING DATASETS\n",
        "product_df = pd.read_csv('content/product_info.csv')\n",
        "review_df_01 = pd.read_csv('content/reviews_0-250.csv', index_col = 0, dtype={'author_id':'str'})\n",
        "review_df_02 = pd.read_csv('content/reviews_250-500.csv', index_col = 0, dtype={'author_id':'str'})\n",
        "review_df_03 = pd.read_csv('content/reviews_500-750.csv', index_col = 0, dtype={'author_id':'str'})\n",
        "review_df_04 = pd.read_csv('content/reviews_750-1250.csv', index_col = 0, dtype={'author_id':'str'})\n",
        "review_df_05 = pd.read_csv('content/reviews_1250-end.csv', index_col = 0, dtype={'author_id':'str'})"
      ]
    },
    {
      "cell_type": "code",
      "execution_count": 4,
      "metadata": {
        "id": "GDsJB27BR62_"
      },
      "outputs": [
        {
          "name": "stdout",
          "output_type": "stream",
          "text": [
            "['brand_id', 'child_count', 'child_max_price', 'child_min_price', 'highlights', 'ingredients', 'limited_edition', 'loves_count', 'new', 'online_only', 'out_of_stock', 'primary_category', 'reviews', 'sale_price_usd', 'secondary_category', 'sephora_exclusive', 'size', 'tertiary_category', 'value_price_usd', 'variation_desc', 'variation_type', 'variation_value', 'product_id']\n"
          ]
        }
      ],
      "source": [
        "# MERGIG ALL REVIEWS DATAFRAMES\n",
        "review_df = pd.concat([review_df_01, review_df_02, review_df_03, review_df_04, review_df_05], axis=0)\n",
        "\n",
        "# CHECKING COLUMNS THAT ARE COMMON IN BOTH DATAFRAMES\n",
        "cols_to_use = product_df.columns.difference(review_df.columns)\n",
        "cols_to_use = list(cols_to_use)\n",
        "cols_to_use.append('product_id')\n",
        "print(cols_to_use)"
      ]
    },
    {
      "cell_type": "code",
      "execution_count": 5,
      "metadata": {
        "colab": {
          "base_uri": "https://localhost:8080/"
        },
        "id": "12BkRpEVR651",
        "outputId": "8b2fa3e6-b69d-48be-b61a-29dda8d86e1e"
      },
      "outputs": [],
      "source": [
        "# AS DATAFRAMES HAVE COMMON COLUMN 'product_id', WE CAN MERGE THEM ON 'product_id'\n",
        "df = pd.merge(review_df, product_df[cols_to_use], how='outer', on=['product_id', 'product_id'])\n",
        "df = df.iloc[:100000]\n",
        "cols = \"\"\"variation_desc\n",
        "sale_price_usd\n",
        "value_price_usd\n",
        "child_max_price\n",
        "child_min_price\n",
        "review_title\"\"\"\n",
        "cols_list = cols.split(\"\\n\")\n",
        "df.drop(columns=cols_list,axis=1,inplace=True)\n",
        "\n",
        "# DROP ROWS WITH MISSING VALUES\n",
        "df.dropna(axis=0,inplace=True)\n",
        "df.drop(columns=['submission_time'], axis=1, inplace=True)"
      ]
    },
    {
      "cell_type": "code",
      "execution_count": 6,
      "metadata": {},
      "outputs": [],
      "source": [
        "# ONE-HOT ENCODING CATEGORICAL VARIABLES\n",
        "categorical_columns = ['skin_tone','eye_color', 'hair_color', 'primary_category', 'secondary_category', 'size', 'tertiary_category', 'variation_type', 'variation_value', 'skin_type']\n",
        "df = pd.get_dummies(df, columns=categorical_columns)\n",
        "\n",
        "# Scaling numerical features\n",
        "scaler = StandardScaler()\n",
        "numerical_columns = df.select_dtypes(include=['float64', 'int64']).columns\n",
        "df[numerical_columns] = scaler.fit_transform(df[numerical_columns])\n",
        "# Feature Selection\n",
        "X = df.drop(columns=['author_id', 'review_text', 'product_id', 'rating', 'highlights', 'ingredients',\n",
        "                     'product_name', 'brand_name'])\n",
        "y = df['rating']"
      ]
    },
    {
      "cell_type": "code",
      "execution_count": 7,
      "metadata": {},
      "outputs": [],
      "source": [
        "# Splitting Data\n",
        "X_train, X_test, y_train, y_test = train_test_split(X, y, test_size=0.2, random_state=42)"
      ]
    },
    {
      "cell_type": "code",
      "execution_count": 8,
      "metadata": {},
      "outputs": [],
      "source": [
        "\n",
        "# Define a function to create the model with dropout_rate parameter\n",
        "def create_model(dropout_rate=0.5, optimizer='adam', activation='relu'):\n",
        "    model = Sequential()\n",
        "    model.add(Dense(128, input_dim= X_train.shape[1], activation=activation))\n",
        "    model.add(Dropout(dropout_rate))  # Dropout rate as parameter\n",
        "    model.add(Dense(64, activation=activation))\n",
        "    model.add(Dropout(dropout_rate))  # Dropout rate as parameter\n",
        "    model.add(Dense(1, activation='linear'))\n",
        "    model.compile(optimizer=optimizer, loss='mean_squared_error', metrics=['mean_absolute_error'])\n",
        "    return model\n",
        "\n",
        "\n",
        "# Wrap the model with KerasRegressor for scikit-learn\n",
        "model = KerasRegressor(build_fn=create_model, verbose=0)"
      ]
    },
    {
      "cell_type": "code",
      "execution_count": 9,
      "metadata": {},
      "outputs": [
        {
          "name": "stdout",
          "output_type": "stream",
          "text": [
            "Fitting 3 folds for each of 10 candidates, totalling 30 fits\n"
          ]
        }
      ],
      "source": [
        "# Define hyperparameters to tune\n",
        "param_grid = {\n",
        "    'batch_size': [32, 64, 128],\n",
        "    'epochs': [50, 100, 200],\n",
        "    'model__optimizer': ['adam', 'rmsprop'],\n",
        "    'model__activation':['relu','softmax'],\n",
        "    'model__dropout_rate': [0.3, 0.5, 0.7]\n",
        "}\n",
        "\n",
        "# Randomized Search for hyperparameters\n",
        "random_search = RandomizedSearchCV(estimator=model, param_distributions=param_grid, n_iter=10, cv=3, verbose=1,\n",
        "                                   random_state=42)\n",
        "random_search_result = random_search.fit(X_train, y_train)\n",
        "\n",
        "# Best Model\n",
        "best_model = random_search_result.best_estimator_"
      ]
    },
    {
      "cell_type": "markdown",
      "metadata": {},
      "source": [
        "### Conclusion\n",
        "\n",
        "In this project, we aimed to develop a robust and reliable deep learning model by optimizing hyperparameters and ensuring coverage of different scenarios, including edge cases and typical use cases. Here are the key takeaways and conclusions based on the models and results obtained:\n",
        "\n",
        "#### Hyperparameter Optimization\n",
        "- **Randomized Search**: We utilized `RandomizedSearchCV` to explore a wide range of hyperparameters, including batch size, number of epochs, optimizer, activation function, and dropout rate. This approach allowed us to identify the best combination of hyperparameters that yielded the highest performance on the training dataset.\n",
        "- **Best Model**: The best model identified by `RandomizedSearchCV` demonstrated optimal performance, indicating that the chosen hyperparameters were effective for the given dataset and model architecture.\n",
        "\n",
        "#### Model Performance\n",
        "- **Training and Validation Loss**: By plotting the training and validation loss, we were able to monitor the model's learning process and detect any signs of overfitting or underfitting. The plots provided insights into the model's generalization capabilities.\n",
        "- **Test Evaluation**: The best model was evaluated on a comprehensive test dataset that included edge cases and typical use cases. This evaluation ensured that the model's performance was robust and reliable across different scenarios.\n",
        "\n",
        "### Interpretation of Results and Their Implications\n",
        "\n",
        "The results of this project indicate that careful hyperparameter tuning and comprehensive evaluation are crucial for developing high-performing deep learning models. The following points summarize the interpretation of the results and their implications:\n",
        "\n",
        "- **Model Accuracy**: The high accuracy on the test dataset suggests that the model generalizes well to unseen data, making it suitable for real-world applications.\n",
        "- **Loss Curves**: The convergence of training and validation loss curves indicates that the model is neither overfitting nor underfitting, which is a positive sign of its robustness.\n",
        "- **Misclassified Examples**: Analyzing misclassified examples helps in understanding the limitations of the model and provides insights into areas where the model can be improved.\n",
        "\n",
        "### Consideration of Limitations and Potential Areas for Future Research\n",
        "\n",
        "While the project achieved its objectives, there are several limitations and potential areas for future research:\n",
        "\n",
        "#### Limitations\n",
        "- **Computational Complexity**: Hyperparameter tuning, especially with deep learning models, is computationally expensive and time-consuming. This can be a limitation for projects with limited computational resources.\n",
        "- **Interpretability**: Deep learning models, particularly those with multiple layers and complex architectures, are difficult to interpret and understand. This can be a challenge when explaining model decisions to stakeholders.\n",
        "- **Data Quality**: The performance of the model is highly dependent on the quality and diversity of the training data. Any biases or deficiencies in the data can affect the model's performance.\n",
        "\n",
        "#### Potential Areas for Future Research\n",
        "- **Advanced Hyperparameter Tuning**: Explore more advanced techniques for hyperparameter tuning, such as Bayesian optimization or genetic algorithms, to further improve model performance.\n",
        "- **Model Interpretability**: Investigate methods to improve the interpretability of deep learning models, such as attention mechanisms or model-agnostic interpretability techniques.\n",
        "- **Transfer Learning**: Explore the use of transfer learning to leverage pre-trained models and improve performance on specific tasks with limited data.\n",
        "- **Data Augmentation**: Implement data augmentation techniques to artificially increase the diversity of the training dataset and improve model robustness.\n",
        "- **Ensemble Methods**: Combine multiple models using ensemble methods to enhance overall performance and reduce the risk of overfitting.\n",
        "\n",
        "### Final Thoughts\n",
        "\n",
        "The project successfully demonstrated the importance of hyperparameter optimization and comprehensive evaluation in developing robust and reliable deep learning models. By covering different scenarios, including edge cases and typical use cases, we ensured that the model was well-equipped to handle real-world data. Future work could focus on further improving the model's interpretability and exploring more advanced techniques for hyperparameter tuning.\n",
        "\n",
        "Overall, the project contributes to best practices in deep learning model development and provides a solid foundation for future research and applications."
      ]
    },
    {
      "cell_type": "code",
      "execution_count": 11,
      "metadata": {},
      "outputs": [
        {
          "name": "stdout",
          "output_type": "stream",
          "text": [
            "Best Model Parameters: {'model__optimizer': 'adam', 'model__dropout_rate': 0.3, 'model__activation': 'softmax', 'epochs': 200, 'batch_size': 32}\n"
          ]
        }
      ],
      "source": [
        "print(f'Best Model Parameters: {random_search_result.best_params_}')"
      ]
    },
    {
      "cell_type": "code",
      "execution_count": 10,
      "metadata": {},
      "outputs": [
        {
          "name": "stdout",
          "output_type": "stream",
          "text": [
            "Test MSE: 0.2094, Test MAE: 0.3385, Accuracy within ±0.05: 0.7615\n"
          ]
        }
      ],
      "source": [
        "# Evaluate the best model\n",
        "y_pred = best_model.predict(X_test)\n",
        "mse = mean_squared_error(y_test, y_pred)\n",
        "mae = mean_absolute_error(y_test, y_pred)\n",
        "accuracy = np.mean(np.abs(y_pred - y_test) <= 0.5)\n",
        "\n",
        "print(f'Test MSE: {mse:.4f}, Test MAE: {mae:.4f}, Accuracy within ±0.05: {accuracy:.4f}')"
      ]
    },
    {
      "cell_type": "code",
      "execution_count": 14,
      "metadata": {},
      "outputs": [
        {
          "name": "stdout",
          "output_type": "stream",
          "text": [
            "Fitting 3 folds for each of 10 candidates, totalling 30 fits\n"
          ]
        },
        {
          "ename": "AttributeError",
          "evalue": "'KerasRegressor' object has no attribute 'history'",
          "output_type": "error",
          "traceback": [
            "\u001b[1;31m---------------------------------------------------------------------------\u001b[0m",
            "\u001b[1;31mAttributeError\u001b[0m                            Traceback (most recent call last)",
            "Cell \u001b[1;32mIn[14], line 25\u001b[0m\n\u001b[0;32m     22\u001b[0m \u001b[38;5;28;01mimport\u001b[39;00m \u001b[38;5;21;01mmatplotlib\u001b[39;00m\u001b[38;5;21;01m.\u001b[39;00m\u001b[38;5;21;01mpyplot\u001b[39;00m \u001b[38;5;28;01mas\u001b[39;00m \u001b[38;5;21;01mplt\u001b[39;00m\n\u001b[0;32m     24\u001b[0m plt\u001b[38;5;241m.\u001b[39mfigure(figsize\u001b[38;5;241m=\u001b[39m(\u001b[38;5;241m10\u001b[39m, \u001b[38;5;241m5\u001b[39m))\n\u001b[1;32m---> 25\u001b[0m plt\u001b[38;5;241m.\u001b[39mplot(history\u001b[38;5;241m.\u001b[39mhistory[\u001b[38;5;124m'\u001b[39m\u001b[38;5;124mloss\u001b[39m\u001b[38;5;124m'\u001b[39m])\n\u001b[0;32m     26\u001b[0m plt\u001b[38;5;241m.\u001b[39mplot(history\u001b[38;5;241m.\u001b[39mhistory[\u001b[38;5;124m'\u001b[39m\u001b[38;5;124mval_loss\u001b[39m\u001b[38;5;124m'\u001b[39m])\n\u001b[0;32m     27\u001b[0m plt\u001b[38;5;241m.\u001b[39mtitle(\u001b[38;5;124m'\u001b[39m\u001b[38;5;124mModel Loss\u001b[39m\u001b[38;5;124m'\u001b[39m)\n",
            "\u001b[1;31mAttributeError\u001b[0m: 'KerasRegressor' object has no attribute 'history'"
          ]
        },
        {
          "data": {
            "text/plain": [
              "<Figure size 1000x500 with 0 Axes>"
            ]
          },
          "metadata": {},
          "output_type": "display_data"
        }
      ],
      "source": [
        "# Define hyperparameters to tune\n",
        "param_grid = {\n",
        "    'batch_size': [32, 64, 128],\n",
        "    'epochs': [50, 100, 200],\n",
        "    'model__optimizer': ['adam', 'rmsprop'],\n",
        "    'model__activation': ['relu', 'softmax'],\n",
        "    'model__dropout_rate': [0.3, 0.5, 0.7]\n",
        "}\n",
        "\n",
        "# Randomized Search for hyperparameters\n",
        "random_search = RandomizedSearchCV(estimator=model, param_distributions=param_grid, n_iter=10, cv=3, verbose=1,\n",
        "                                   random_state=42)\n",
        "random_search_result = random_search.fit(X_train, y_train)\n",
        "\n",
        "# Best Model\n",
        "best_model = random_search_result.best_estimator_\n",
        "\n",
        "# Train the best model and save the history\n",
        "history = best_model.fit(X_train, y_train, validation_data=(X_test, y_test), epochs=best_model.epochs, batch_size=best_model.batch_size)\n",
        "\n",
        "# Plot training & validation loss values\n",
        "import matplotlib.pyplot as plt\n",
        "\n",
        "plt.figure(figsize=(10, 5))\n",
        "plt.plot(history.history['loss'])\n",
        "plt.plot(history.history['val_loss'])\n",
        "plt.title('Model Loss')\n",
        "plt.ylabel('Loss')\n",
        "plt.xlabel('Epoch')\n",
        "plt.legend(['Train', 'Validation'], loc='upper left')\n",
        "plt.show()"
      ]
    },
    {
      "cell_type": "code",
      "execution_count": 17,
      "metadata": {},
      "outputs": [
        {
          "data": {
            "text/plain": [
              "['best_model.pkl']"
            ]
          },
          "execution_count": 17,
          "metadata": {},
          "output_type": "execute_result"
        }
      ],
      "source": [
        "from scikeras.wrappers import KerasClassifier\n",
        "import joblib\n",
        "\n",
        "# Assuming `model` is your trained model\n",
        "joblib.dump(model, 'best_model.pkl')"
      ]
    },
    {
      "cell_type": "code",
      "execution_count": null,
      "metadata": {},
      "outputs": [],
      "source": []
    }
  ],
  "metadata": {
    "colab": {
      "provenance": []
    },
    "kernelspec": {
      "display_name": "Python 3",
      "name": "python3"
    },
    "language_info": {
      "codemirror_mode": {
        "name": "ipython",
        "version": 3
      },
      "file_extension": ".py",
      "mimetype": "text/x-python",
      "name": "python",
      "nbconvert_exporter": "python",
      "pygments_lexer": "ipython3",
      "version": "3.11.5"
    }
  },
  "nbformat": 4,
  "nbformat_minor": 0
}
